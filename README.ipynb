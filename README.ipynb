{
 "cells": [
  {
   "cell_type": "markdown",
   "metadata": {},
   "source": [
    "# Web-Pro-Summer-Homework-1-..Program-1-Javascript\n",
    "\n",
    "Download\n",
    "Link:https://programming.engineering/product/web-pro-summer-homework-1-program-1-javascript/\n",
    "\n",
    "This assignment mainly tests your JavaScript skill. You will create two\n",
    "HTML web pages, a CSS file and a JavaScript file. Part A) Create a web\n",
    "page that uses JavaScript to print the time of the visit to the page.\n",
    "Instead of using the default conversion of a Date object to a string,\n",
    "use the getHours getMinutes methods of the Date class to produce\n",
    "something like this: The time is 19 minutes after 25 hours. This should\n",
    "appear as content in the page, not a pop-up box. This is your home page,\n",
    "this page should contain your personal information such as your name,\n",
    "your email address as well as one of the pictures you choose (Do not use\n",
    "your own pictures). As usual, create a link on this page direct to\n",
    "another \\`\\`Calculator’’ page. Part B) Create a web page that uses\n",
    "JavaScript to build a calculator. The calculator should contain all the\n",
    "numbers from 0-9, and functions of add, minus, multiply, module and\n",
    "divide. Also include a clear button to clear the result. For the style\n",
    "of the calculator, please refer to one of the following visual styles.\n",
    "You do not have to match exactly the color, but the visual look should\n",
    "look similar to one of these.\n",
    "\n",
    "Grading Criteria: Note: Program assignments are individual\n",
    "assignments and should represent your own work. You should not use pair\n",
    "programming on the program assignments. If you received help with this\n",
    "assignment, acknowledge this help (who helped and the nature of the\n",
    "help) in your file’s header comment. Format your HTML, CSS and\n",
    "JavaScript nicely so that it is as readable as possible. Place a comment\n",
    "header in each file containing your account, file, and honor code.\n",
    "Include metadata on both HTML pages. xemptyz"
   ],
   "id": "42a14256-91c8-446e-92a7-ab6bf11055d3"
  }
 ],
 "nbformat": 4,
 "nbformat_minor": 5,
 "metadata": {}
}
